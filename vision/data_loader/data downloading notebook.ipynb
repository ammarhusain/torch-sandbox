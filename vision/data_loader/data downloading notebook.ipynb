{
 "cells": [
  {
   "cell_type": "markdown",
   "id": "42fb5214-f6f4-4543-82cc-c744f51a9035",
   "metadata": {},
   "source": [
    "https://lila.science/datasets/great-zebra-giraffe-id"
   ]
  },
  {
   "cell_type": "code",
   "execution_count": 9,
   "id": "8d6fccad-b229-4239-9c7f-1ebb976b4027",
   "metadata": {},
   "outputs": [
    {
     "name": "stdout",
     "output_type": "stream",
     "text": [
      "--2021-10-06 10:39:07--  https://lilablobssc.blob.core.windows.net/giraffe-zebra-id/gzgc.coco.tar.gz\n",
      "Resolving lilablobssc.blob.core.windows.net (lilablobssc.blob.core.windows.net)... 52.239.159.84\n",
      "Connecting to lilablobssc.blob.core.windows.net (lilablobssc.blob.core.windows.net)|52.239.159.84|:443... connected.\n",
      "HTTP request sent, awaiting response... 200 OK\n",
      "Length: 10433199738 (9.7G) [application/x-gzip]\n",
      "Saving to: ‘giraffe-zebra.tar.gz’\n",
      "\n",
      "giraffe-zebra.tar.g   1%[                    ] 191.49M  2.44MB/s    eta 65m 10s^C\n"
     ]
    }
   ],
   "source": [
    "\n",
    "!wget 'https://lilablobssc.blob.core.windows.net/giraffe-zebra-id/gzgc.coco.tar.gz' -O 'data/giraffe-zebra.tar.gz'\n",
    "\n",
    "# import urllib.request\n",
    "# url = 'http://i3.ytimg.com/vi/J---aiyznGQ/mqdefault.jpg'\n",
    "# urllib.request.urlretrieve(\"https://lilablobssc.blob.core.windows.net/giraffe-zebra-id/gzgc.coco.tar.gz\", 'giraffe-zebra.tar.gz')"
   ]
  },
  {
   "cell_type": "code",
   "execution_count": null,
   "id": "a9adb9d3-fc65-4c74-b7c7-e39d418fd651",
   "metadata": {},
   "outputs": [],
   "source": [
    "#"
   ]
  }
 ],
 "metadata": {
  "kernelspec": {
   "display_name": "Python 3 (ipykernel)",
   "language": "python",
   "name": "python3"
  },
  "language_info": {
   "codemirror_mode": {
    "name": "ipython",
    "version": 3
   },
   "file_extension": ".py",
   "mimetype": "text/x-python",
   "name": "python",
   "nbconvert_exporter": "python",
   "pygments_lexer": "ipython3",
   "version": "3.9.7"
  }
 },
 "nbformat": 4,
 "nbformat_minor": 5
}
